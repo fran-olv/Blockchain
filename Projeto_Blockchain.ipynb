{
  "nbformat": 4,
  "nbformat_minor": 0,
  "metadata": {
    "colab": {
      "provenance": [],
      "authorship_tag": "ABX9TyM17Um5DhewIyE179VnpukT",
      "include_colab_link": true
    },
    "kernelspec": {
      "name": "python3",
      "display_name": "Python 3"
    },
    "language_info": {
      "name": "python"
    }
  },
  "cells": [
    {
      "cell_type": "markdown",
      "metadata": {
        "id": "view-in-github",
        "colab_type": "text"
      },
      "source": [
        "<a href=\"https://colab.research.google.com/github/fran-olv/Blockchain/blob/main/Projeto_Blockchain.ipynb\" target=\"_parent\"><img src=\"https://colab.research.google.com/assets/colab-badge.svg\" alt=\"Open In Colab\"/></a>"
      ]
    },
    {
      "cell_type": "markdown",
      "source": [
        "Proposta:  criar um código simples em qualquer linguagem de programação.\n",
        "O código deve receber dados criptografados, calcular o hash da mensagem original e, em seguida, inserir um novo conjunto de dados, retornando o hash da mensagem combinado com uma parte do hash anterior.\n",
        "\n",
        "Essencialmente, o processo consiste em:\n",
        "\n",
        "1. Receber dados criptografados\n",
        "2. Calcular o hash da mensagem original\n",
        "3. Inserir o próximo conjunto de dados.\n",
        "4. Retornar o hash da mensagem atual junto com parte do hash anterior.\n",
        "\n",
        "\n"
      ],
      "metadata": {
        "id": "1lppmkQC5b4i"
      }
    },
    {
      "cell_type": "markdown",
      "source": [
        "Preparando os dados: criptogrando dados\n",
        "\n"
      ],
      "metadata": {
        "id": "ODJFKzQOLglV"
      }
    },
    {
      "cell_type": "code",
      "source": [
        "from cryptography.hazmat.backends import default_backend\n",
        "from cryptography.hazmat.primitives import hashes\n",
        "from cryptography.hazmat.primitives.ciphers import Cipher, algorithms, modes\n",
        "import os\n",
        "\n",
        "def cifrar_dados(dados, chave):\n",
        "    iv = os.urandom(16)  # Geração de um vetor de inicialização (IV) aleatório\n",
        "    cipher = Cipher(algorithms.AES(chave), modes.GCM(iv), backend=default_backend())\n",
        "    encryptor = cipher.encryptor()\n",
        "    dados_criptografados = encryptor.update(dados.encode()) + encryptor.finalize()\n",
        "    return dados_criptografados, encryptor.tag\n",
        "\n",
        "# Exemplo de uso para gerar um dado criptografado\n",
        "dados_originais = \"minha senha do banco é 1234\"\n",
        "chave = hashlib.sha256(\"ChaveSecreta\".encode()).digest()  # Simples exemplo de geração de chave\n",
        "dados_criptografados, tag = cifrar_dados(dados_originais, chave)\n",
        "\n",
        "print(\"Dados originais:\", dados_originais)\n",
        "print(\"Dados criptografados:\", dados_criptografados.hex())\n",
        "print(\"Tag de autenticação:\", tag.hex())\n"
      ],
      "metadata": {
        "colab": {
          "base_uri": "https://localhost:8080/"
        },
        "id": "RG4wP8XpLep9",
        "outputId": "68e25cb5-c912-4d67-d0f5-3bc3eb532bff"
      },
      "execution_count": null,
      "outputs": [
        {
          "output_type": "stream",
          "name": "stdout",
          "text": [
            "Dados originais: minha senha do banco é 1234\n",
            "Dados criptografados: f13e3d47dd25b7723e35efa04ed2291ae5af35b86d666a8aa6423ba0\n",
            "Tag de autenticação: b10e9549c35b88eafcef873047f5d3fa\n"
          ]
        }
      ]
    },
    {
      "cell_type": "markdown",
      "source": [
        "dados1\n",
        "\n",
        "- Dados originais: Desenvolvimento de uma lógica de blockchain\n",
        "\n",
        "- Dados criptografados: 2a97e3dc07fe246323f751aac2b503ad4ddb3c9f0ae0eece74d107dc3499a6c876bcf78ae80909d1044f729c\n",
        "- Tag de autenticação: 25dda6d0f5ab8f98ba3c919c0c8eb883\n",
        "\n",
        "dados2\n",
        "\n",
        "- Dados originais: minha senha do banco é 1234\n",
        "- Dados criptografados: f13e3d47dd25b7723e35efa04ed2291ae5af35b86d666a8aa6423ba0\n",
        "- Tag de autenticação: b10e9549c35b88eafcef873047f5d3fa"
      ],
      "metadata": {
        "id": "h1YPPCLVP_k0"
      }
    },
    {
      "cell_type": "code",
      "execution_count": 12,
      "metadata": {
        "colab": {
          "base_uri": "https://localhost:8080/"
        },
        "id": "lsZhjuvR4dwZ",
        "outputId": "1bfc6cea-d896-4248-febd-8ac931b44510"
      },
      "outputs": [
        {
          "output_type": "stream",
          "name": "stdout",
          "text": [
            "Dados criptografados:  Dados do bloco1\n",
            "Blockchain apos inclusao do primeiro bloco\n",
            "0fb7c315b5889e702edbd76984a2d32cbc79fec4a17b965675324ca7f5230161\n",
            "Dados criptografados:  Novo conjunto de dados do bloco 20fb7c315b5889e702edbd76984a2d32cbc79fec4a17b965675324ca7f5230161\n",
            "Blockchain apos inclusao do segundo bloco\n",
            "0fb7c315b5889e702edbd76984a2d32cbc79fec4a17b965675324ca7f5230161\n",
            "503bddb85ab0be56b37e7e9c80cd6a9f959c6b32fbd769f8098d7d3568835a7a\n",
            "Hash atual com parte do anterior: 503bddb85ab0be56b37e7e9c80cd6a9f959c6b32fbd769f8098d7d3568835a7a\n"
          ]
        }
      ],
      "source": [
        "import hashlib\n",
        "\n",
        "class Blockchain:\n",
        "    def __init__(self):\n",
        "        self.cadeia = []\n",
        "        self.hash_anterior = None\n",
        "\n",
        "    def calcular_hash(self, dados_criptografados):\n",
        "        if self.hash_anterior is not None:\n",
        "            dados_criptografados += self.hash_anterior\n",
        "        print('Dados criptografados: ',dados_criptografados)\n",
        "        hash_mensagem_original = hashlib.sha256(dados_criptografados.encode()).hexdigest()\n",
        "        return hash_mensagem_original\n",
        "\n",
        "    def inserir_hash_cadeia(self, novo_hash):\n",
        "        self.cadeia.append(novo_hash)\n",
        "        self.hash_anterior = novo_hash\n",
        "\n",
        "    def retornar_hash_atual_com_parte_do_anterior(self):\n",
        "        return self.hash_anterior\n",
        "\n",
        "    def imprimir_cadeia(self):\n",
        "        for bloco in self.cadeia:\n",
        "            print(bloco)\n",
        "\n",
        "if __name__ == \"__main__\":\n",
        "    # Exemplo de uso\n",
        "  blockchain = Blockchain()\n",
        "\n",
        "  # Etapa Anterior: Receber dados e inserir na cadeia\n",
        "  dados1 = \"Dados do bloco1\"\n",
        "  hash_dados1 = blockchain.calcular_hash(dados1)\n",
        "  inserir_hash_cadeia(hash_dados1)\n",
        "  print('Blockchain apos inclusao do primeiro bloco, hash:')\n",
        "  blockchain.imprimir_cadeia()\n",
        "\n",
        "  # Etapa Atual: Inserir o próximo conjunto de dados\n",
        "  novo_conjunto_de_dados2 = \"Novo conjunto de dados do bloco 2\"\n",
        "  hash_dados2 = blockchain.calcular_hash(novo_conjunto_de_dados2)\n",
        "  inserir_hash_cadeia(hash_dados2)\n",
        "  print('Blockchain apos inclusao do segundo bloco')\n",
        "  blockchain.imprimir_cadeia()\n",
        "\n",
        "  # Etapa Posterior: Retornar o hash da mensagem atual junto com parte do hash anterior\n",
        "  hash_atual_com_parte_do_anterior = blockchain.retornar_hash_atual_com_parte_do_anterior()\n",
        "  print(\"Hash atual com parte do anterior:\", hash_atual_com_parte_do_anterior)\n"
      ]
    },
    {
      "cell_type": "markdown",
      "source": [
        "# Explicação do Código:\n",
        "\n",
        "`import hashlib`\n",
        "\n",
        "> hashlib biblioteca python que fornece funções de hash, como SHA-256, que será usada para calcular o hash da mensagem.([Fonte](https://docs.python.org/3/library/hashlib.html))\n",
        "\n",
        "> SHA, (Secure Hash Algorithms) são conjuntos de funções criptográficas de hash definidas pela linguagem a serem usadas para vários aplicativos, como segurança de senha, etc. Algumas variantes são suportadas pelo Python na biblioteca “ hashlib.A função que será usada será SHA256 que uma função hash pertence à classe hash SHA-2, o tamanho do bloco interno é de 32 bits.”. ([Fonte](https://acervolima.com/sha-em-python/#google_vignette))\n",
        "\n",
        "\n",
        "    class Blockchain:\n",
        "    def __init__(self):\n",
        "        self.cadeia = []\n",
        "        self.hash_anterior = None\n",
        "\n",
        "Definição da classe Blockchain.\n",
        "Seu método __init__, tem como paremetros:\n",
        "- uma cadeia que é uma lista que armazenará os hashes dos blocos = `self.cadeia`\n",
        "- variável hash_anterior que manterá o hash do bloco anterior = ´self.hash_anterior´\n",
        "\n",
        "\n",
        "     def calcular_hash(self, dados_criptografados):\n",
        "        if self.hash_anterior is not None:\n",
        "            dados_criptografados += self.hash_anterior\n",
        "        print('Dados criptografados: ',dados_criptografados)\n",
        "        hash_mensagem_original = hashlib.sha256(dados_criptografados.encode()).hexdigest()\n",
        "        return hash_mensagem_original\n",
        "\n",
        "Definição do método `calcular_hash`ele recebe 2 parametros:\n",
        "- as informacoes da blockchain (cadeia com os hash dos blocos e o hash do ultimo bloco) = `self`\n",
        "- dados criptografados\n",
        "\n",
        "Lógica de Funcionamento:\n",
        "- Primeiro o método verifica a variável do último hash da blockchain `self.hash_anterior`\n",
        "- Se bão houver esse é o primeiro dado da cadeia então ele será criptografado sem concatenar com ninguém.\n",
        "- Se houver um bloco anterior, ele concatena o hash anterior com os novos dados.\n",
        "- `dados_criptografados.encode()` Em seguida, os dados criptografados são transformados para converte para uma sequência de bytes\n",
        "- `hashlib.sha25()`A partir dos bytes é calculado o hash dos dados usando SHA-256.\n",
        "- `hexdigest()` o valor hash calculado é convertido para uma representação em formato hexadecimal.Para tornar o hash mais legível e fácil de exibir ou armazenar.\n",
        "- Retorna o hash da mensagem original\n",
        "\n",
        "\n",
        "    def inserir_hash_cadeia(self, novo_hash):\n",
        "        self.cadeia.append(novo_hash)\n",
        "        self.hash_anterior = novo_hash\n",
        "\n",
        "Definição da função inserir_hash_cadeira\n",
        "Insere o novo hash na cadeia e atualiza a variavel hash anterior, com o valor do novo hash\n",
        "\n",
        "    def retornar_hash_atual_com_parte_do_anterior(self):\n",
        "        return self.hash_anterior\n",
        "\n",
        "retorna o valor do hash_anterior uma vez que ele já foi concatenado dentro da funcao calcula_hash. o atual com a parte do anterior estará na variavel hash_anterior\n",
        "\n",
        "    def imprimir_cadeia(self):\n",
        "        for bloco in self.cadeia:\n",
        "            print(bloco /n)\n",
        "\n",
        "imprimi todos os blocos da cadeia.\n"
      ],
      "metadata": {
        "id": "GX32pDQR5aWO"
      }
    }
  ]
}