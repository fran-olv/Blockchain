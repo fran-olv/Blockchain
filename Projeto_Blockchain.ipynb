{
  "nbformat": 4,
  "nbformat_minor": 0,
  "metadata": {
    "colab": {
      "provenance": [],
      "authorship_tag": "ABX9TyPudBy7JvT40siqjsq5Ebqj",
      "include_colab_link": true
    },
    "kernelspec": {
      "name": "python3",
      "display_name": "Python 3"
    },
    "language_info": {
      "name": "python"
    }
  },
  "cells": [
    {
      "cell_type": "markdown",
      "metadata": {
        "id": "view-in-github",
        "colab_type": "text"
      },
      "source": [
        "<a href=\"https://colab.research.google.com/github/fran-olv/Blockchain/blob/main/Projeto_Blockchain.ipynb\" target=\"_parent\"><img src=\"https://colab.research.google.com/assets/colab-badge.svg\" alt=\"Open In Colab\"/></a>"
      ]
    },
    {
      "cell_type": "markdown",
      "source": [
        "# [README do Projeto](https://github.com/fran-olv/Blockchain/blob/main/README.md)\n",
        "\n"
      ],
      "metadata": {
        "id": "irjkD-ZmkymG"
      }
    },
    {
      "cell_type": "markdown",
      "source": [
        "## Preparando os dados: *criptogrando* dados\n",
        "\n"
      ],
      "metadata": {
        "id": "ODJFKzQOLglV"
      }
    },
    {
      "cell_type": "code",
      "source": [
        "from cryptography.hazmat.backends import default_backend\n",
        "from cryptography.hazmat.primitives import hashes\n",
        "from cryptography.hazmat.primitives.ciphers import Cipher, algorithms, modes\n",
        "import os\n",
        "\n",
        "def cifrar_dados(dados, chave):\n",
        "    iv = os.urandom(16)  # Geração de um vetor de inicialização (IV) aleatório\n",
        "    cipher = Cipher(algorithms.AES(chave), modes.GCM(iv), backend=default_backend())\n",
        "    encryptor = cipher.encryptor()\n",
        "    dados_criptografados = encryptor.update(dados.encode()) + encryptor.finalize()\n",
        "    return dados_criptografados, encryptor.tag\n",
        "\n",
        "# Exemplo de uso para gerar um dado criptografado\n",
        "dados_originais = \"minha senha do banco é 1234\"\n",
        "chave = hashlib.sha256(\"ChaveSecreta\".encode()).digest()  # Simples exemplo de geração de chave\n",
        "dados_criptografados, tag = cifrar_dados(dados_originais, chave)\n",
        "\n",
        "print(\"Dados originais:\", dados_originais)\n",
        "print(\"Dados criptografados:\", dados_criptografados.hex())\n",
        "print(\"Tag de autenticação:\", tag.hex())\n"
      ],
      "metadata": {
        "colab": {
          "base_uri": "https://localhost:8080/"
        },
        "id": "RG4wP8XpLep9",
        "outputId": "68e25cb5-c912-4d67-d0f5-3bc3eb532bff"
      },
      "execution_count": null,
      "outputs": [
        {
          "output_type": "stream",
          "name": "stdout",
          "text": [
            "Dados originais: minha senha do banco é 1234\n",
            "Dados criptografados: f13e3d47dd25b7723e35efa04ed2291ae5af35b86d666a8aa6423ba0\n",
            "Tag de autenticação: b10e9549c35b88eafcef873047f5d3fa\n"
          ]
        }
      ]
    },
    {
      "cell_type": "markdown",
      "source": [
        "dados1\n",
        "\n",
        "- Dados originais: Desenvolvimento de uma lógica de blockchain\n",
        "\n",
        "- Dados criptografados: 2a97e3dc07fe246323f751aac2b503ad4ddb3c9f0ae0eece74d107dc3499a6c876bcf78ae80909d1044f729c\n",
        "- Tag de autenticação: 25dda6d0f5ab8f98ba3c919c0c8eb883\n",
        "\n",
        "dados2\n",
        "\n",
        "- Dados originais: minha senha do banco é 1234\n",
        "- Dados criptografados: f13e3d47dd25b7723e35efa04ed2291ae5af35b86d666a8aa6423ba0\n",
        "- Tag de autenticação: b10e9549c35b88eafcef873047f5d3fa"
      ],
      "metadata": {
        "id": "h1YPPCLVP_k0"
      }
    },
    {
      "cell_type": "markdown",
      "source": [
        "## Criação da Hash e da Cadeia Blockchain"
      ],
      "metadata": {
        "id": "MTV2BJBDlSwr"
      }
    },
    {
      "cell_type": "code",
      "execution_count": 11,
      "metadata": {
        "colab": {
          "base_uri": "https://localhost:8080/"
        },
        "id": "lsZhjuvR4dwZ",
        "outputId": "a1d31103-ca2b-4563-90c3-c0edb77cfeaf"
      },
      "outputs": [
        {
          "output_type": "stream",
          "name": "stdout",
          "text": [
            "Dados criptografados:  2a97e3dc07fe246323f751aac2b503ad4ddb3c9f0ae0eece74d107dc3499a6c876bcf78ae80909d1044f729c-\n",
            "Blockchain apos inclusao do primeiro bloco, hash:\n",
            "7166ae6da06d6a68eb4c2a43142209fb66cdebe1d09509d1a947e3bf60ec19a3\n",
            "Dados criptografados:  f13e3d47dd25b7723e35efa04ed2291ae5af35b86d666a8aa6423ba0-7166ae6da06d6a68eb4c2a43142209fb66cdebe1d09509d1a947e3bf60ec19a3\n",
            "Blockchain apos inclusao do segundo bloco\n",
            "7166ae6da06d6a68eb4c2a43142209fb66cdebe1d09509d1a947e3bf60ec19a3\n",
            "edfd9a77487f3403cbaa78a5c5b41be2632b1c7bee5bd5a965eadfcd2ca0305c\n",
            "Hash atual com parte do anterior: edfd9a77487f3403cbaa78a5c5b41be2632b1c7bee5bd5a965eadfcd2ca0305c\n"
          ]
        }
      ],
      "source": [
        "import hashlib\n",
        "\n",
        "class Blockchain:\n",
        "    def __init__(self):\n",
        "        self.cadeia = []\n",
        "        self.hash_anterior = None\n",
        "\n",
        "\n",
        "\n",
        "    def inserir_hash_cadeia(self, novo_hash):\n",
        "        self.cadeia.append(novo_hash)\n",
        "        self.hash_anterior = novo_hash\n",
        "\n",
        "    def calcular_inserir_hash(self, dados_criptografados):\n",
        "        if self.hash_anterior is not None:\n",
        "            dados_criptografados += self.hash_anterior\n",
        "        print('Dados criptografados: ',dados_criptografados)\n",
        "        hash_mensagem_original = hashlib.sha256(dados_criptografados.encode()).hexdigest()\n",
        "        self.cadeia.append(hash_mensagem_original)\n",
        "        self.hash_anterior = hash_mensagem_original\n",
        "\n",
        "\n",
        "    def retornar_hash_atual_com_parte_do_anterior(self):\n",
        "        return self.hash_anterior\n",
        "\n",
        "    def imprimir_cadeia(self):\n",
        "        for bloco in self.cadeia:\n",
        "            print(bloco)\n",
        "\n",
        "if __name__ == \"__main__\":\n",
        "    # Exemplo de uso\n",
        "  blockchain = Blockchain()\n",
        "\n",
        "  # Etapa Anterior: Receber dados e inserir na cadeia\n",
        "  dados1 = \"2a97e3dc07fe246323f751aac2b503ad4ddb3c9f0ae0eece74d107dc3499a6c876bcf78ae80909d1044f729c-\"\n",
        "  blockchain.calcular_inserir_hash(dados1)\n",
        "  print('Blockchain apos inclusao do primeiro bloco, hash:')\n",
        "  blockchain.imprimir_cadeia()\n",
        "\n",
        "  # Etapa Atual: Inserir o próximo conjunto de dados\n",
        "  novo_conjunto_de_dados2 = \"f13e3d47dd25b7723e35efa04ed2291ae5af35b86d666a8aa6423ba0-\"\n",
        "  blockchain.calcular_inserir_hash(novo_conjunto_de_dados2)\n",
        "  print('Blockchain apos inclusao do segundo bloco')\n",
        "  blockchain.imprimir_cadeia()\n",
        "\n",
        "  # Etapa Posterior: Retornar o hash da mensagem atual junto com parte do hash anterior\n",
        "  hash_atual_com_parte_do_anterior = blockchain.retornar_hash_atual_com_parte_do_anterior()\n",
        "  print(\"Hash atual com parte do anterior:\", hash_atual_com_parte_do_anterior)\n"
      ]
    }
  ]
}